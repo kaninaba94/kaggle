{
 "cells": [
  {
   "cell_type": "code",
   "execution_count": 1,
   "id": "2d68a531",
   "metadata": {
    "_cell_guid": "b1076dfc-b9ad-4769-8c92-a6c4dae69d19",
    "_uuid": "8f2839f25d086af736a60e9eeb907d3b93b6e0e5",
    "execution": {
     "iopub.execute_input": "2022-02-17T13:08:53.860024Z",
     "iopub.status.busy": "2022-02-17T13:08:53.859220Z",
     "iopub.status.idle": "2022-02-17T13:09:00.677129Z",
     "shell.execute_reply": "2022-02-17T13:09:00.676407Z",
     "shell.execute_reply.started": "2022-02-17T12:34:44.602853Z"
    },
    "papermill": {
     "duration": 6.842973,
     "end_time": "2022-02-17T13:09:00.677324",
     "exception": false,
     "start_time": "2022-02-17T13:08:53.834351",
     "status": "completed"
    },
    "tags": []
   },
   "outputs": [
    {
     "name": "stdout",
     "output_type": "stream",
     "text": [
      "/kaggle/input/titanic/train.csv\n",
      "/kaggle/input/titanic/test.csv\n",
      "/kaggle/input/titanic/gender_submission.csv\n"
     ]
    }
   ],
   "source": [
    "# This Python 3 environment comes with many helpful analytics libraries installed\n",
    "# It is defined by the kaggle/python Docker image: https://github.com/kaggle/docker-python\n",
    "# For example, here's several helpful packages to load\n",
    "\n",
    "import numpy as np # linear algebra\n",
    "import pandas as pd # data processing, CSV file I/O (e.g. pd.read_csv)\n",
    "\n",
    "# Input data files are available in the read-only \"../input/\" directory\n",
    "# For example, running this (by clicking run or pressing Shift+Enter) will list all files under the input directory\n",
    "\n",
    "import os\n",
    "for dirname, _, filenames in os.walk('/kaggle/input'):\n",
    "    for filename in filenames:\n",
    "        print(os.path.join(dirname, filename))\n",
    "\n",
    "# You can write up to 20GB to the current directory (/kaggle/working/) that gets preserved as output when you create a version using \"Save & Run All\" \n",
    "# You can also write temporary files to /kaggle/temp/, but they won't be saved outside of the current session\n",
    "\n",
    "import tensorflow as tf\n",
    "from tensorflow import keras\n",
    "from sklearn.model_selection import train_test_split, GridSearchCV\n",
    "from sklearn.preprocessing import scale, StandardScaler\n",
    "from sklearn.svm import SVC\n",
    "from sklearn.metrics import plot_confusion_matrix\n",
    "from sklearn.pipeline import make_pipeline"
   ]
  },
  {
   "cell_type": "code",
   "execution_count": 2,
   "id": "a4082b8f",
   "metadata": {
    "execution": {
     "iopub.execute_input": "2022-02-17T13:09:00.707162Z",
     "iopub.status.busy": "2022-02-17T13:09:00.706067Z",
     "iopub.status.idle": "2022-02-17T13:09:00.782313Z",
     "shell.execute_reply": "2022-02-17T13:09:00.782835Z",
     "shell.execute_reply.started": "2022-02-17T12:31:27.436118Z"
    },
    "papermill": {
     "duration": 0.095053,
     "end_time": "2022-02-17T13:09:00.783015",
     "exception": false,
     "start_time": "2022-02-17T13:09:00.687962",
     "status": "completed"
    },
    "tags": []
   },
   "outputs": [
    {
     "data": {
      "text/plain": [
       "(891, 12)"
      ]
     },
     "execution_count": 2,
     "metadata": {},
     "output_type": "execute_result"
    }
   ],
   "source": [
    "train = pd.read_csv('/kaggle/input/titanic/train.csv')\n",
    "test = pd.read_csv('/kaggle/input/titanic/test.csv')\n",
    "gender_submission = pd.read_csv('/kaggle/input/titanic/gender_submission.csv')\n",
    "\n",
    "X_train = train.drop('Survived', axis=1).copy()\n",
    "y_train = train['Survived'].copy()\n",
    "X_test = test.copy()\n",
    "\n",
    "X_train.Age.fillna(round(X_train.Age.mean()), inplace=True)\n",
    "X_test.Age.fillna(round(X_test.Age.mean()), inplace=True)\n",
    "X_test.Fare.fillna(X_test.Fare.mean(), inplace=True)\n",
    "\n",
    "irrelevant_columns = ['Ticket', 'Cabin', 'Name', 'PassengerId']\n",
    "categorical_columns = ['Sex', 'Pclass', 'Embarked']\n",
    "X_train_encoded = pd.get_dummies(X_train.drop(irrelevant_columns, axis=1).copy(), columns=categorical_columns)\n",
    "X_test_encoded = pd.get_dummies(X_test.drop(irrelevant_columns, axis=1).copy(), columns=categorical_columns)\n",
    "\n",
    "X_train_scaled = scale(X_train_encoded)\n",
    "X_test_scaled = scale(X_test_encoded)\n",
    "np.isnan(X_test_scaled).any()\n",
    "\n",
    "X_train_scaled.shape"
   ]
  },
  {
   "cell_type": "markdown",
   "id": "a2b69b4d",
   "metadata": {
    "papermill": {
     "duration": 0.009387,
     "end_time": "2022-02-17T13:09:00.802145",
     "exception": false,
     "start_time": "2022-02-17T13:09:00.792758",
     "status": "completed"
    },
    "tags": []
   },
   "source": [
    "## Neural Network Prediction"
   ]
  },
  {
   "cell_type": "code",
   "execution_count": 3,
   "id": "e0f7fb5f",
   "metadata": {
    "execution": {
     "iopub.execute_input": "2022-02-17T13:09:00.829941Z",
     "iopub.status.busy": "2022-02-17T13:09:00.828874Z",
     "iopub.status.idle": "2022-02-17T13:09:05.833181Z",
     "shell.execute_reply": "2022-02-17T13:09:05.833684Z",
     "shell.execute_reply.started": "2022-02-17T13:07:38.539957Z"
    },
    "papermill": {
     "duration": 5.022036,
     "end_time": "2022-02-17T13:09:05.833869",
     "exception": false,
     "start_time": "2022-02-17T13:09:00.811833",
     "status": "completed"
    },
    "tags": []
   },
   "outputs": [
    {
     "name": "stderr",
     "output_type": "stream",
     "text": [
      "2022-02-17 13:09:02.023284: I tensorflow/core/common_runtime/process_util.cc:146] Creating new thread pool with default inter op setting: 2. Tune using inter_op_parallelism_threads for best performance.\n",
      "2022-02-17 13:09:02.200000: I tensorflow/compiler/mlir/mlir_graph_optimization_pass.cc:185] None of the MLIR Optimization Passes are enabled (registered 2)\n"
     ]
    },
    {
     "name": "stdout",
     "output_type": "stream",
     "text": [
      "Epoch 1/20\n",
      "28/28 [==============================] - 1s 2ms/step - loss: 0.5003 - accuracy: 0.7621\n",
      "Epoch 2/20\n",
      "28/28 [==============================] - 0s 2ms/step - loss: 0.4459 - accuracy: 0.8092\n",
      "Epoch 3/20\n",
      "28/28 [==============================] - 0s 2ms/step - loss: 0.4273 - accuracy: 0.8171\n",
      "Epoch 4/20\n",
      "28/28 [==============================] - 0s 2ms/step - loss: 0.4197 - accuracy: 0.8103\n",
      "Epoch 5/20\n",
      "28/28 [==============================] - 0s 2ms/step - loss: 0.4225 - accuracy: 0.8171\n",
      "Epoch 6/20\n",
      "28/28 [==============================] - 0s 3ms/step - loss: 0.4162 - accuracy: 0.8272\n",
      "Epoch 7/20\n",
      "28/28 [==============================] - 0s 3ms/step - loss: 0.4084 - accuracy: 0.8316\n",
      "Epoch 8/20\n",
      "28/28 [==============================] - 0s 2ms/step - loss: 0.3970 - accuracy: 0.8316\n",
      "Epoch 9/20\n",
      "28/28 [==============================] - 0s 2ms/step - loss: 0.3966 - accuracy: 0.8373\n",
      "Epoch 10/20\n",
      "28/28 [==============================] - 0s 2ms/step - loss: 0.3991 - accuracy: 0.8227\n",
      "Epoch 11/20\n",
      "28/28 [==============================] - 0s 1ms/step - loss: 0.4045 - accuracy: 0.8339\n",
      "Epoch 12/20\n",
      "28/28 [==============================] - 0s 2ms/step - loss: 0.3894 - accuracy: 0.8272\n",
      "Epoch 13/20\n",
      "28/28 [==============================] - 0s 2ms/step - loss: 0.3912 - accuracy: 0.8316\n",
      "Epoch 14/20\n",
      "28/28 [==============================] - 0s 2ms/step - loss: 0.3851 - accuracy: 0.8328\n",
      "Epoch 15/20\n",
      "28/28 [==============================] - 0s 2ms/step - loss: 0.3864 - accuracy: 0.8361\n",
      "Epoch 16/20\n",
      "28/28 [==============================] - 0s 2ms/step - loss: 0.3837 - accuracy: 0.8384\n",
      "Epoch 17/20\n",
      "28/28 [==============================] - 0s 2ms/step - loss: 0.3766 - accuracy: 0.8429\n",
      "Epoch 18/20\n",
      "28/28 [==============================] - 0s 2ms/step - loss: 0.3740 - accuracy: 0.8395\n",
      "Epoch 19/20\n",
      "28/28 [==============================] - 0s 2ms/step - loss: 0.3700 - accuracy: 0.8418\n",
      "Epoch 20/20\n",
      "28/28 [==============================] - 0s 2ms/step - loss: 0.3637 - accuracy: 0.8440\n",
      "Epoch 1/20\n",
      "28/28 [==============================] - 0s 1ms/step - loss: 0.3618 - accuracy: 0.8440\n",
      "Epoch 2/20\n",
      "28/28 [==============================] - 0s 2ms/step - loss: 0.3558 - accuracy: 0.8485\n",
      "Epoch 3/20\n",
      "28/28 [==============================] - 0s 1ms/step - loss: 0.3535 - accuracy: 0.8519\n",
      "Epoch 4/20\n",
      "28/28 [==============================] - 0s 2ms/step - loss: 0.3523 - accuracy: 0.8530\n",
      "Epoch 5/20\n",
      "28/28 [==============================] - 0s 2ms/step - loss: 0.3517 - accuracy: 0.8541\n",
      "Epoch 6/20\n",
      "28/28 [==============================] - 0s 2ms/step - loss: 0.3519 - accuracy: 0.8541\n",
      "Epoch 7/20\n",
      "28/28 [==============================] - 0s 1ms/step - loss: 0.3511 - accuracy: 0.8575\n",
      "Epoch 8/20\n",
      "28/28 [==============================] - 0s 2ms/step - loss: 0.3508 - accuracy: 0.8541\n",
      "Epoch 9/20\n",
      "28/28 [==============================] - 0s 2ms/step - loss: 0.3507 - accuracy: 0.8541\n",
      "Epoch 10/20\n",
      "28/28 [==============================] - 0s 2ms/step - loss: 0.3501 - accuracy: 0.8563\n",
      "Epoch 11/20\n",
      "28/28 [==============================] - 0s 3ms/step - loss: 0.3501 - accuracy: 0.8541\n",
      "Epoch 12/20\n",
      "28/28 [==============================] - 0s 3ms/step - loss: 0.3499 - accuracy: 0.8530\n",
      "Epoch 13/20\n",
      "28/28 [==============================] - 0s 3ms/step - loss: 0.3499 - accuracy: 0.8552\n",
      "Epoch 14/20\n",
      "28/28 [==============================] - 0s 4ms/step - loss: 0.3497 - accuracy: 0.8530\n",
      "Epoch 15/20\n",
      "28/28 [==============================] - 0s 3ms/step - loss: 0.3495 - accuracy: 0.8552\n",
      "Epoch 16/20\n",
      "28/28 [==============================] - 0s 2ms/step - loss: 0.3491 - accuracy: 0.8563\n",
      "Epoch 17/20\n",
      "28/28 [==============================] - 0s 2ms/step - loss: 0.3489 - accuracy: 0.8563\n",
      "Epoch 18/20\n",
      "28/28 [==============================] - 0s 2ms/step - loss: 0.3486 - accuracy: 0.8552\n",
      "Epoch 19/20\n",
      "28/28 [==============================] - 0s 2ms/step - loss: 0.3487 - accuracy: 0.8552\n",
      "Epoch 20/20\n",
      "28/28 [==============================] - 0s 2ms/step - loss: 0.3484 - accuracy: 0.8563\n"
     ]
    }
   ],
   "source": [
    "model = keras.Sequential([\n",
    "    keras.layers.Flatten(input_shape=(12,)),  # input layer\n",
    "    keras.layers.Dense(16, activation='tanh'),  # hidden layer (1)\n",
    "    keras.layers.Dense(16, activation='tanh'),  #hidden layer (2)\n",
    "    keras.layers.Dense(2, activation='softmax') # output layer (3)\n",
    "])\n",
    "\n",
    "for lr in [0.01, 0.0005]:\n",
    "    opt = keras.optimizers.Adam(learning_rate=lr)\n",
    "    model.compile(optimizer=opt,\n",
    "                  loss='sparse_categorical_crossentropy',\n",
    "                  metrics=['accuracy'])\n",
    "    model.fit(X_train_scaled, y_train, epochs=20)\n",
    "\n",
    "pred = model.predict(X_test_scaled)"
   ]
  },
  {
   "cell_type": "code",
   "execution_count": 4,
   "id": "79aaeea0",
   "metadata": {
    "execution": {
     "iopub.execute_input": "2022-02-17T13:09:05.936636Z",
     "iopub.status.busy": "2022-02-17T13:09:05.935948Z",
     "iopub.status.idle": "2022-02-17T13:09:05.938815Z",
     "shell.execute_reply": "2022-02-17T13:09:05.939349Z",
     "shell.execute_reply.started": "2022-02-17T13:07:41.631237Z"
    },
    "papermill": {
     "duration": 0.058051,
     "end_time": "2022-02-17T13:09:05.939522",
     "exception": false,
     "start_time": "2022-02-17T13:09:05.881471",
     "status": "completed"
    },
    "tags": []
   },
   "outputs": [
    {
     "data": {
      "text/plain": [
       "array([[0.94097227, 0.05902773],\n",
       "       [0.56009716, 0.43990287],\n",
       "       [0.9765019 , 0.02349818],\n",
       "       [0.88968605, 0.11031395],\n",
       "       [0.7446529 , 0.2553471 ]], dtype=float32)"
      ]
     },
     "execution_count": 4,
     "metadata": {},
     "output_type": "execute_result"
    }
   ],
   "source": [
    "pred[:5]"
   ]
  },
  {
   "cell_type": "code",
   "execution_count": 5,
   "id": "1c6454cb",
   "metadata": {
    "execution": {
     "iopub.execute_input": "2022-02-17T13:09:06.041163Z",
     "iopub.status.busy": "2022-02-17T13:09:06.040470Z",
     "iopub.status.idle": "2022-02-17T13:09:06.048629Z",
     "shell.execute_reply": "2022-02-17T13:09:06.048082Z",
     "shell.execute_reply.started": "2022-02-17T13:07:45.133255Z"
    },
    "papermill": {
     "duration": 0.061431,
     "end_time": "2022-02-17T13:09:06.048770",
     "exception": false,
     "start_time": "2022-02-17T13:09:05.987339",
     "status": "completed"
    },
    "tags": []
   },
   "outputs": [
    {
     "data": {
      "text/plain": [
       "0      0\n",
       "1      0\n",
       "2      0\n",
       "3      0\n",
       "4      0\n",
       "      ..\n",
       "413    0\n",
       "414    1\n",
       "415    0\n",
       "416    0\n",
       "417    0\n",
       "Length: 418, dtype: int64"
      ]
     },
     "execution_count": 5,
     "metadata": {},
     "output_type": "execute_result"
    }
   ],
   "source": [
    "pred = pd.Series(pred.argmax(1))\n",
    "pred"
   ]
  },
  {
   "cell_type": "code",
   "execution_count": 6,
   "id": "cbe3af44",
   "metadata": {
    "execution": {
     "iopub.execute_input": "2022-02-17T13:09:06.157474Z",
     "iopub.status.busy": "2022-02-17T13:09:06.156689Z",
     "iopub.status.idle": "2022-02-17T13:09:06.162553Z",
     "shell.execute_reply": "2022-02-17T13:09:06.163087Z",
     "shell.execute_reply.started": "2022-02-17T13:08:21.874144Z"
    },
    "papermill": {
     "duration": 0.064596,
     "end_time": "2022-02-17T13:09:06.163280",
     "exception": false,
     "start_time": "2022-02-17T13:09:06.098684",
     "status": "completed"
    },
    "tags": []
   },
   "outputs": [],
   "source": [
    "predictions = pd.DataFrame()\n",
    "predictions['PassengerId'] = pd.Series(X_test.PassengerId)\n",
    "predictions['Survived'] = pred\n",
    "predictions.to_csv('submission.csv', index=False)"
   ]
  },
  {
   "cell_type": "code",
   "execution_count": null,
   "id": "5fbfee44",
   "metadata": {
    "papermill": {
     "duration": 0.051856,
     "end_time": "2022-02-17T13:09:06.266151",
     "exception": false,
     "start_time": "2022-02-17T13:09:06.214295",
     "status": "completed"
    },
    "tags": []
   },
   "outputs": [],
   "source": []
  }
 ],
 "metadata": {
  "kernelspec": {
   "display_name": "Python 3",
   "language": "python",
   "name": "python3"
  },
  "language_info": {
   "codemirror_mode": {
    "name": "ipython",
    "version": 3
   },
   "file_extension": ".py",
   "mimetype": "text/x-python",
   "name": "python",
   "nbconvert_exporter": "python",
   "pygments_lexer": "ipython3",
   "version": "3.7.12"
  },
  "papermill": {
   "default_parameters": {},
   "duration": 26.912307,
   "end_time": "2022-02-17T13:09:09.743198",
   "environment_variables": {},
   "exception": null,
   "input_path": "__notebook__.ipynb",
   "output_path": "__notebook__.ipynb",
   "parameters": {},
   "start_time": "2022-02-17T13:08:42.830891",
   "version": "2.3.3"
  }
 },
 "nbformat": 4,
 "nbformat_minor": 5
}
